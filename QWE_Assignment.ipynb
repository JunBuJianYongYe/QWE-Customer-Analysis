{
  "nbformat": 4,
  "nbformat_minor": 0,
  "metadata": {
    "colab": {
      "provenance": []
    },
    "kernelspec": {
      "name": "python3",
      "display_name": "Python 3"
    },
    "language_info": {
      "name": "python"
    }
  },
  "cells": [
    {
      "cell_type": "markdown",
      "source": [
        "#QWE Assignment"
      ],
      "metadata": {
        "id": "91oQfcVh3-tc"
      }
    },
    {
      "cell_type": "markdown",
      "source": [
        "**Jiacheng Li**"
      ],
      "metadata": {
        "id": "djtq-bl-4GPR"
      }
    },
    {
      "cell_type": "markdown",
      "source": [
        "**Q1. Age and Churn Rate Correlation Analysis（2 Points）**\n",
        "\n",
        "Is Wall’s belief about the dependence of churn rates on customer age supported by\n",
        "the data? To get some intuition, try visualizing this dependence (Hint: no need to run\n",
        "any statistical tests)\n"
      ],
      "metadata": {
        "id": "uaPz1gda4SSa"
      }
    },
    {
      "cell_type": "code",
      "source": [
        "#Import from Google Drive\n",
        "from google.colab import drive\n",
        "drive.mount('/content/drive')\n"
      ],
      "metadata": {
        "colab": {
          "base_uri": "https://localhost:8080/"
        },
        "id": "6Zm-1ol2VBsB",
        "outputId": "b7b794f8-1f09-429f-9198-53c69a1d8912"
      },
      "execution_count": null,
      "outputs": [
        {
          "output_type": "stream",
          "name": "stdout",
          "text": [
            "Drive already mounted at /content/drive; to attempt to forcibly remount, call drive.mount(\"/content/drive\", force_remount=True).\n"
          ]
        }
      ]
    },
    {
      "cell_type": "code",
      "source": [
        "import pandas as pd\n",
        "df = pd.read_excel(\"/content/drive/MyDrive/UV6696-XLS-ENG.xlsx\")"
      ],
      "metadata": {
        "id": "PzHUrmbkWQNl"
      },
      "execution_count": null,
      "outputs": []
    },
    {
      "cell_type": "code",
      "source": [
        "df.head(3)"
      ],
      "metadata": {
        "colab": {
          "base_uri": "https://localhost:8080/",
          "height": 161
        },
        "id": "3OxHKhZyWbbK",
        "outputId": "d92c5119-cc90-474e-c2bf-82b217e05ea3"
      },
      "execution_count": null,
      "outputs": [
        {
          "output_type": "execute_result",
          "data": {
            "text/plain": [
              "   ID  Customer Age (in months)  Churn (1 = Yes, 0 = No)  CHI Score Month 0  \\\n",
              "0   1                        67                        0                  0   \n",
              "1   2                        67                        0                 62   \n",
              "2   3                        55                        0                  0   \n",
              "\n",
              "   CHI Score 0-1  Support Cases Month 0  Support Cases 0-1  SP Month 0  \\\n",
              "0              0                      0                  0         0.0   \n",
              "1              4                      0                  0         0.0   \n",
              "2              0                      0                  0         0.0   \n",
              "\n",
              "   SP 0-1  Logins 0-1  Blog Articles 0-1  Views 0-1  \\\n",
              "0     0.0           0                  0          0   \n",
              "1     0.0           0                  0        -16   \n",
              "2     0.0           0                  0          0   \n",
              "\n",
              "    Days Since Last Login 0-1  \n",
              "0                          31  \n",
              "1                          31  \n",
              "2                          31  "
            ],
            "text/html": [
              "\n",
              "  <div id=\"df-6ddbadb8-60a4-4958-88fc-58417538e70a\" class=\"colab-df-container\">\n",
              "    <div>\n",
              "<style scoped>\n",
              "    .dataframe tbody tr th:only-of-type {\n",
              "        vertical-align: middle;\n",
              "    }\n",
              "\n",
              "    .dataframe tbody tr th {\n",
              "        vertical-align: top;\n",
              "    }\n",
              "\n",
              "    .dataframe thead th {\n",
              "        text-align: right;\n",
              "    }\n",
              "</style>\n",
              "<table border=\"1\" class=\"dataframe\">\n",
              "  <thead>\n",
              "    <tr style=\"text-align: right;\">\n",
              "      <th></th>\n",
              "      <th>ID</th>\n",
              "      <th>Customer Age (in months)</th>\n",
              "      <th>Churn (1 = Yes, 0 = No)</th>\n",
              "      <th>CHI Score Month 0</th>\n",
              "      <th>CHI Score 0-1</th>\n",
              "      <th>Support Cases Month 0</th>\n",
              "      <th>Support Cases 0-1</th>\n",
              "      <th>SP Month 0</th>\n",
              "      <th>SP 0-1</th>\n",
              "      <th>Logins 0-1</th>\n",
              "      <th>Blog Articles 0-1</th>\n",
              "      <th>Views 0-1</th>\n",
              "      <th>Days Since Last Login 0-1</th>\n",
              "    </tr>\n",
              "  </thead>\n",
              "  <tbody>\n",
              "    <tr>\n",
              "      <th>0</th>\n",
              "      <td>1</td>\n",
              "      <td>67</td>\n",
              "      <td>0</td>\n",
              "      <td>0</td>\n",
              "      <td>0</td>\n",
              "      <td>0</td>\n",
              "      <td>0</td>\n",
              "      <td>0.0</td>\n",
              "      <td>0.0</td>\n",
              "      <td>0</td>\n",
              "      <td>0</td>\n",
              "      <td>0</td>\n",
              "      <td>31</td>\n",
              "    </tr>\n",
              "    <tr>\n",
              "      <th>1</th>\n",
              "      <td>2</td>\n",
              "      <td>67</td>\n",
              "      <td>0</td>\n",
              "      <td>62</td>\n",
              "      <td>4</td>\n",
              "      <td>0</td>\n",
              "      <td>0</td>\n",
              "      <td>0.0</td>\n",
              "      <td>0.0</td>\n",
              "      <td>0</td>\n",
              "      <td>0</td>\n",
              "      <td>-16</td>\n",
              "      <td>31</td>\n",
              "    </tr>\n",
              "    <tr>\n",
              "      <th>2</th>\n",
              "      <td>3</td>\n",
              "      <td>55</td>\n",
              "      <td>0</td>\n",
              "      <td>0</td>\n",
              "      <td>0</td>\n",
              "      <td>0</td>\n",
              "      <td>0</td>\n",
              "      <td>0.0</td>\n",
              "      <td>0.0</td>\n",
              "      <td>0</td>\n",
              "      <td>0</td>\n",
              "      <td>0</td>\n",
              "      <td>31</td>\n",
              "    </tr>\n",
              "  </tbody>\n",
              "</table>\n",
              "</div>\n",
              "    <div class=\"colab-df-buttons\">\n",
              "\n",
              "  <div class=\"colab-df-container\">\n",
              "    <button class=\"colab-df-convert\" onclick=\"convertToInteractive('df-6ddbadb8-60a4-4958-88fc-58417538e70a')\"\n",
              "            title=\"Convert this dataframe to an interactive table.\"\n",
              "            style=\"display:none;\">\n",
              "\n",
              "  <svg xmlns=\"http://www.w3.org/2000/svg\" height=\"24px\" viewBox=\"0 -960 960 960\">\n",
              "    <path d=\"M120-120v-720h720v720H120Zm60-500h600v-160H180v160Zm220 220h160v-160H400v160Zm0 220h160v-160H400v160ZM180-400h160v-160H180v160Zm440 0h160v-160H620v160ZM180-180h160v-160H180v160Zm440 0h160v-160H620v160Z\"/>\n",
              "  </svg>\n",
              "    </button>\n",
              "\n",
              "  <style>\n",
              "    .colab-df-container {\n",
              "      display:flex;\n",
              "      gap: 12px;\n",
              "    }\n",
              "\n",
              "    .colab-df-convert {\n",
              "      background-color: #E8F0FE;\n",
              "      border: none;\n",
              "      border-radius: 50%;\n",
              "      cursor: pointer;\n",
              "      display: none;\n",
              "      fill: #1967D2;\n",
              "      height: 32px;\n",
              "      padding: 0 0 0 0;\n",
              "      width: 32px;\n",
              "    }\n",
              "\n",
              "    .colab-df-convert:hover {\n",
              "      background-color: #E2EBFA;\n",
              "      box-shadow: 0px 1px 2px rgba(60, 64, 67, 0.3), 0px 1px 3px 1px rgba(60, 64, 67, 0.15);\n",
              "      fill: #174EA6;\n",
              "    }\n",
              "\n",
              "    .colab-df-buttons div {\n",
              "      margin-bottom: 4px;\n",
              "    }\n",
              "\n",
              "    [theme=dark] .colab-df-convert {\n",
              "      background-color: #3B4455;\n",
              "      fill: #D2E3FC;\n",
              "    }\n",
              "\n",
              "    [theme=dark] .colab-df-convert:hover {\n",
              "      background-color: #434B5C;\n",
              "      box-shadow: 0px 1px 3px 1px rgba(0, 0, 0, 0.15);\n",
              "      filter: drop-shadow(0px 1px 2px rgba(0, 0, 0, 0.3));\n",
              "      fill: #FFFFFF;\n",
              "    }\n",
              "  </style>\n",
              "\n",
              "    <script>\n",
              "      const buttonEl =\n",
              "        document.querySelector('#df-6ddbadb8-60a4-4958-88fc-58417538e70a button.colab-df-convert');\n",
              "      buttonEl.style.display =\n",
              "        google.colab.kernel.accessAllowed ? 'block' : 'none';\n",
              "\n",
              "      async function convertToInteractive(key) {\n",
              "        const element = document.querySelector('#df-6ddbadb8-60a4-4958-88fc-58417538e70a');\n",
              "        const dataTable =\n",
              "          await google.colab.kernel.invokeFunction('convertToInteractive',\n",
              "                                                    [key], {});\n",
              "        if (!dataTable) return;\n",
              "\n",
              "        const docLinkHtml = 'Like what you see? Visit the ' +\n",
              "          '<a target=\"_blank\" href=https://colab.research.google.com/notebooks/data_table.ipynb>data table notebook</a>'\n",
              "          + ' to learn more about interactive tables.';\n",
              "        element.innerHTML = '';\n",
              "        dataTable['output_type'] = 'display_data';\n",
              "        await google.colab.output.renderOutput(dataTable, element);\n",
              "        const docLink = document.createElement('div');\n",
              "        docLink.innerHTML = docLinkHtml;\n",
              "        element.appendChild(docLink);\n",
              "      }\n",
              "    </script>\n",
              "  </div>\n",
              "\n",
              "\n",
              "<div id=\"df-aa82eed4-a07d-4c6f-9d7c-2237be4b5cac\">\n",
              "  <button class=\"colab-df-quickchart\" onclick=\"quickchart('df-aa82eed4-a07d-4c6f-9d7c-2237be4b5cac')\"\n",
              "            title=\"Suggest charts\"\n",
              "            style=\"display:none;\">\n",
              "\n",
              "<svg xmlns=\"http://www.w3.org/2000/svg\" height=\"24px\"viewBox=\"0 0 24 24\"\n",
              "     width=\"24px\">\n",
              "    <g>\n",
              "        <path d=\"M19 3H5c-1.1 0-2 .9-2 2v14c0 1.1.9 2 2 2h14c1.1 0 2-.9 2-2V5c0-1.1-.9-2-2-2zM9 17H7v-7h2v7zm4 0h-2V7h2v10zm4 0h-2v-4h2v4z\"/>\n",
              "    </g>\n",
              "</svg>\n",
              "  </button>\n",
              "\n",
              "<style>\n",
              "  .colab-df-quickchart {\n",
              "      --bg-color: #E8F0FE;\n",
              "      --fill-color: #1967D2;\n",
              "      --hover-bg-color: #E2EBFA;\n",
              "      --hover-fill-color: #174EA6;\n",
              "      --disabled-fill-color: #AAA;\n",
              "      --disabled-bg-color: #DDD;\n",
              "  }\n",
              "\n",
              "  [theme=dark] .colab-df-quickchart {\n",
              "      --bg-color: #3B4455;\n",
              "      --fill-color: #D2E3FC;\n",
              "      --hover-bg-color: #434B5C;\n",
              "      --hover-fill-color: #FFFFFF;\n",
              "      --disabled-bg-color: #3B4455;\n",
              "      --disabled-fill-color: #666;\n",
              "  }\n",
              "\n",
              "  .colab-df-quickchart {\n",
              "    background-color: var(--bg-color);\n",
              "    border: none;\n",
              "    border-radius: 50%;\n",
              "    cursor: pointer;\n",
              "    display: none;\n",
              "    fill: var(--fill-color);\n",
              "    height: 32px;\n",
              "    padding: 0;\n",
              "    width: 32px;\n",
              "  }\n",
              "\n",
              "  .colab-df-quickchart:hover {\n",
              "    background-color: var(--hover-bg-color);\n",
              "    box-shadow: 0 1px 2px rgba(60, 64, 67, 0.3), 0 1px 3px 1px rgba(60, 64, 67, 0.15);\n",
              "    fill: var(--button-hover-fill-color);\n",
              "  }\n",
              "\n",
              "  .colab-df-quickchart-complete:disabled,\n",
              "  .colab-df-quickchart-complete:disabled:hover {\n",
              "    background-color: var(--disabled-bg-color);\n",
              "    fill: var(--disabled-fill-color);\n",
              "    box-shadow: none;\n",
              "  }\n",
              "\n",
              "  .colab-df-spinner {\n",
              "    border: 2px solid var(--fill-color);\n",
              "    border-color: transparent;\n",
              "    border-bottom-color: var(--fill-color);\n",
              "    animation:\n",
              "      spin 1s steps(1) infinite;\n",
              "  }\n",
              "\n",
              "  @keyframes spin {\n",
              "    0% {\n",
              "      border-color: transparent;\n",
              "      border-bottom-color: var(--fill-color);\n",
              "      border-left-color: var(--fill-color);\n",
              "    }\n",
              "    20% {\n",
              "      border-color: transparent;\n",
              "      border-left-color: var(--fill-color);\n",
              "      border-top-color: var(--fill-color);\n",
              "    }\n",
              "    30% {\n",
              "      border-color: transparent;\n",
              "      border-left-color: var(--fill-color);\n",
              "      border-top-color: var(--fill-color);\n",
              "      border-right-color: var(--fill-color);\n",
              "    }\n",
              "    40% {\n",
              "      border-color: transparent;\n",
              "      border-right-color: var(--fill-color);\n",
              "      border-top-color: var(--fill-color);\n",
              "    }\n",
              "    60% {\n",
              "      border-color: transparent;\n",
              "      border-right-color: var(--fill-color);\n",
              "    }\n",
              "    80% {\n",
              "      border-color: transparent;\n",
              "      border-right-color: var(--fill-color);\n",
              "      border-bottom-color: var(--fill-color);\n",
              "    }\n",
              "    90% {\n",
              "      border-color: transparent;\n",
              "      border-bottom-color: var(--fill-color);\n",
              "    }\n",
              "  }\n",
              "</style>\n",
              "\n",
              "  <script>\n",
              "    async function quickchart(key) {\n",
              "      const quickchartButtonEl =\n",
              "        document.querySelector('#' + key + ' button');\n",
              "      quickchartButtonEl.disabled = true;  // To prevent multiple clicks.\n",
              "      quickchartButtonEl.classList.add('colab-df-spinner');\n",
              "      try {\n",
              "        const charts = await google.colab.kernel.invokeFunction(\n",
              "            'suggestCharts', [key], {});\n",
              "      } catch (error) {\n",
              "        console.error('Error during call to suggestCharts:', error);\n",
              "      }\n",
              "      quickchartButtonEl.classList.remove('colab-df-spinner');\n",
              "      quickchartButtonEl.classList.add('colab-df-quickchart-complete');\n",
              "    }\n",
              "    (() => {\n",
              "      let quickchartButtonEl =\n",
              "        document.querySelector('#df-aa82eed4-a07d-4c6f-9d7c-2237be4b5cac button');\n",
              "      quickchartButtonEl.style.display =\n",
              "        google.colab.kernel.accessAllowed ? 'block' : 'none';\n",
              "    })();\n",
              "  </script>\n",
              "</div>\n",
              "    </div>\n",
              "  </div>\n"
            ]
          },
          "metadata": {},
          "execution_count": 17
        }
      ]
    },
    {
      "cell_type": "code",
      "source": [
        "df.info()"
      ],
      "metadata": {
        "colab": {
          "base_uri": "https://localhost:8080/"
        },
        "id": "ViGSrk3VXTTb",
        "outputId": "51df8298-40f1-48e8-fc8d-131a6c61326c"
      },
      "execution_count": null,
      "outputs": [
        {
          "output_type": "stream",
          "name": "stdout",
          "text": [
            "<class 'pandas.core.frame.DataFrame'>\n",
            "RangeIndex: 6347 entries, 0 to 6346\n",
            "Data columns (total 13 columns):\n",
            " #   Column                      Non-Null Count  Dtype  \n",
            "---  ------                      --------------  -----  \n",
            " 0   ID                          6347 non-null   int64  \n",
            " 1   Customer Age (in months)    6347 non-null   int64  \n",
            " 2   Churn (1 = Yes, 0 = No)     6347 non-null   int64  \n",
            " 3   CHI Score Month 0           6347 non-null   int64  \n",
            " 4   CHI Score 0-1               6347 non-null   int64  \n",
            " 5   Support Cases Month 0       6347 non-null   int64  \n",
            " 6   Support Cases 0-1           6347 non-null   int64  \n",
            " 7   SP Month 0                  6347 non-null   float64\n",
            " 8   SP 0-1                      6347 non-null   float64\n",
            " 9   Logins 0-1                  6347 non-null   int64  \n",
            " 10  Blog Articles 0-1           6347 non-null   int64  \n",
            " 11  Views 0-1                   6347 non-null   int64  \n",
            " 12   Days Since Last Login 0-1  6347 non-null   int64  \n",
            "dtypes: float64(2), int64(11)\n",
            "memory usage: 644.7 KB\n"
          ]
        }
      ]
    },
    {
      "cell_type": "code",
      "source": [
        "import matplotlib.pyplot as plt\n",
        "# Grouping Data\n",
        "age_churn_rate = df.groupby('Customer Age (in months)')['Churn (1 = Yes, 0 = No)'].mean()\n",
        "\n",
        "# Creating Bar Chart\n",
        "plt.figure(figsize=(15, 6))\n",
        "age_churn_rate.plot(kind='bar', color='skyblue')\n",
        "plt.title('Churn Rate by Customer Age')\n",
        "plt.xlabel('Customer Age (in months)')\n",
        "plt.ylabel('Average Churn Rate')\n",
        "plt.xticks(rotation='horizontal')\n",
        "plt.show()"
      ],
      "metadata": {
        "colab": {
          "base_uri": "https://localhost:8080/",
          "height": 573
        },
        "id": "bX9z_DzJ7Uyp",
        "outputId": "924b667c-ba76-4736-9adb-4b7a57ce2af6"
      },
      "execution_count": null,
      "outputs": [
        {
          "output_type": "display_data",
          "data": {
            "text/plain": [
              "<Figure size 1500x600 with 1 Axes>"
            ],
            "image/png": "[encoded data removed]"
          },
          "metadata": {}
        }
      ]
    },
    {
      "cell_type": "markdown",
      "source": [
        "**Answer:**\n",
        "\n",
        " The diagram reveals that customer age does influence churn rates, as evidenced by varying churn rates across age groups. However, the relationship is not straightforward or linear, suggesting that while age is a factor in churn, it is not the predominant or only determinant. This indicates a more complex interplay of factors influencing customer churn, with age being one of several contributors."
      ],
      "metadata": {
        "id": "zXK9zPJLaDjT"
      }
    },
    {
      "cell_type": "code",
      "source": [
        "# Creating Violin plot\n",
        "plt.figure(figsize=(10, 6))\n",
        "sns.violinplot(x=df['Churn (1 = Yes, 0 = No)'], y=df['Customer Age (in months)'])\n",
        "plt.title('Customer Age Distribution by Churn Status')\n",
        "plt.xlabel('Churn (1 = Yes, 0 = No)')\n",
        "plt.ylabel('Customer Age (in months)')\n",
        "plt.show()\n",
        "\n",
        "# Calculate the mean age for churned and not churned customers\n",
        "mean_ages = df.groupby('Churn (1 = Yes, 0 = No)')['Customer Age (in months)'].mean()\n",
        "mean_ages"
      ],
      "metadata": {
        "colab": {
          "base_uri": "https://localhost:8080/",
          "height": 642
        },
        "id": "4c3NWaF4bSXa",
        "outputId": "13c5014b-c76b-42e9-996f-3a7ba830a843"
      },
      "execution_count": null,
      "outputs": [
        {
          "output_type": "display_data",
          "data": {
            "text/plain": [
              "<Figure size 1000x600 with 1 Axes>"
            ],
            "image/png": "[encoded data removed]"
          },
          "metadata": {}
        },
        {
          "output_type": "execute_result",
          "data": {
            "text/plain": [
              "Churn (1 = Yes, 0 = No)\n",
              "0    13.818725\n",
              "1    15.352941\n",
              "Name: Customer Age (in months), dtype: float64"
            ]
          },
          "metadata": {},
          "execution_count": 20
        }
      ]
    },
    {
      "cell_type": "markdown",
      "source": [
        "**Answer:**\n",
        "\n",
        "The width of each \"violin\" indicates the density of data points at different ages. However, there is no stark contrast in the age distribution between the two groups, suggesting that customer age may not be a strongly distinguishing factor in churn.\n",
        "\n",
        "The mean ages for churned and not churned customers provide further insight:\n",
        "Non-churned customers (0) have an average age of approximately 13.82 months.\n",
        "Churned customers (1) have a slightly higher average age of approximately 15.35 months.\n",
        "\n",
        "These findings suggest that while there might be a slight difference in the average age of churned versus non-churned customers, the difference is not substantial. This implies that Wall's belief about a strong dependence of churn rates on customer age may not be fully supported by the data."
      ],
      "metadata": {
        "id": "xBDyehq-bgez"
      }
    },
    {
      "cell_type": "markdown",
      "source": [
        "**Q2. Regression Model Implementation (2 Points)**\n",
        "\n",
        "Run a regression model that best predicts the probability that a customer leaves.\n",
        "Additionally, address the following:\n",
        "\n",
        "**A. Customer 672 Probability Analysis**\n",
        "\n",
        "What is the predicted probability that Customer 672 will leave between December\n",
        "2011 and February 2012? Is that high or low? Did that customer actually leave\n",
        "\n",
        "**B. Probability Assessment for Customers 354 and 5203 (1 Point)**\n",
        "\n",
        "What about Customers 354 and 5203?\n",
        "\n"
      ],
      "metadata": {
        "id": "s0CewnGN4fmZ"
      }
    },
    {
      "cell_type": "code",
      "source": [
        "from sklearn.model_selection import train_test_split\n",
        "from sklearn.linear_model import LogisticRegression\n",
        "from sklearn.metrics import accuracy_score"
      ],
      "metadata": {
        "id": "-qwO6x0URt8L"
      },
      "execution_count": null,
      "outputs": []
    },
    {
      "cell_type": "code",
      "source": [
        "X = df.drop('Churn (1 = Yes, 0 = No)', axis=1)\n",
        "y = df['Churn (1 = Yes, 0 = No)']\n",
        "\n",
        "# Splitting the data\n",
        "X_train, X_test, y_train, y_test = train_test_split(X, y, test_size=0.3, random_state=42)\n",
        "\n",
        "# Building Logistic Regression Model\n",
        "log_reg = LogisticRegression(max_iter=1000)\n",
        "log_reg.fit(X_train, y_train)\n",
        "y_pred = log_reg.predict(X_test)\n",
        "accuracy = accuracy_score(y_test, y_pred)\n",
        "\n",
        "# Predicting the probability of churn for 672, 354 and 5203\n",
        "specific_customers = df[df['ID'].isin([672, 354, 5203])]\n",
        "probabilities = log_reg.predict_proba(specific_customers.drop('Churn (1 = Yes, 0 = No)', axis=1))\n",
        "\n",
        "# Extracting and Checking\n",
        "specific_customer_probs = probabilities[:, 1] # Index 1 is for churn\n",
        "actual_churn_status = specific_customers['Churn (1 = Yes, 0 = No)']\n",
        "\n",
        "# Output\n",
        "accuracy, specific_customer_probs, actual_churn_status"
      ],
      "metadata": {
        "colab": {
          "base_uri": "https://localhost:8080/"
        },
        "id": "urCf_ABiVyik",
        "outputId": "e90b223f-8fcd-48e8-dfbf-74c598f69f0d"
      },
      "execution_count": null,
      "outputs": [
        {
          "output_type": "execute_result",
          "data": {
            "text/plain": [
              "(0.9459317585301837,\n",
              " array([0.08805344, 0.0571815 , 0.03072087]),\n",
              " 353     0\n",
              " 671     0\n",
              " 5202    0\n",
              " Name: Churn (1 = Yes, 0 = No), dtype: int64)"
            ]
          },
          "metadata": {},
          "execution_count": 22
        }
      ]
    },
    {
      "cell_type": "markdown",
      "source": [
        "**Anwer A for Customer 672:**\n",
        "\n",
        "The logistic regression model predicts an 8.81% probability of churn for Customer 672. This prediction indicates that it is low probability for customer 672 to leave during that period. In reality, Customer 672 **did not leave.**"
      ],
      "metadata": {
        "id": "RnMWsw1dXbC_"
      }
    },
    {
      "cell_type": "markdown",
      "source": [
        "**Anwer B for Customer 354 and 5203:**\n",
        "\n",
        "For Customer 354, the model estimates a churn probability of approximately 5.72%. This value indicates a low risk of churn. The actual data also shows that Customer 354 **did not leave.**\n",
        "\n",
        "\n",
        "For Customer 5203 stands at a relatively low 3.07% probability of churn, the lowest among the three customers. This low probability suggests a minimal risk of this customer leaving the company. The actual data also confirms that Customer 5203 **did not leave.**\n"
      ],
      "metadata": {
        "id": "71LlJUgHZc1x"
      }
    },
    {
      "cell_type": "markdown",
      "source": [
        "**Q3. Key Contributing Factors (2 Points)**\n",
        "\n",
        "What factors contribute the most to the predicted probabilities that these customers will leave?\n"
      ],
      "metadata": {
        "id": "OgPI3qxLUpr3"
      }
    },
    {
      "cell_type": "code",
      "source": [
        "from sklearn.inspection import permutation_importance"
      ],
      "metadata": {
        "id": "myo1VyoEbkBH"
      },
      "execution_count": null,
      "outputs": []
    },
    {
      "cell_type": "code",
      "source": [
        "#Creating Predictors related to selected columns\n",
        "numeric_columns = df.select_dtypes(include=['number']).columns.tolist()\n",
        "predictors = [col for col in numeric_columns if col != 'Churn (1 = Yes, 0 = No)' and col != 'ID']\n",
        "\n",
        "X = df[predictors]\n",
        "y = df['Churn (1 = Yes, 0 = No)']\n",
        "\n",
        "# Fit the Model\n",
        "model = LogisticRegression(max_iter=1000)\n",
        "model.fit(X, y)\n",
        "\n",
        "# Computing\n",
        "perm_importance = permutation_importance(model, X, y, n_repeats=30, random_state=42)\n",
        "\n",
        "# Extracting\n",
        "feature_importance = pd.DataFrame(data={\n",
        "    'Feature': predictors,\n",
        "    'Importance': perm_importance.importances_mean\n",
        "}).sort_values(by='Importance', ascending=False)\n",
        "\n",
        "feature_importance"
      ],
      "metadata": {
        "colab": {
          "base_uri": "https://localhost:8080/",
          "height": 394
        },
        "id": "JBzqnJjPb7ps",
        "outputId": "63e0e00f-1b29-42d6-e695-6853d71f84ee"
      },
      "execution_count": null,
      "outputs": [
        {
          "output_type": "execute_result",
          "data": {
            "text/plain": [
              "                       Feature  Importance\n",
              "4            Support Cases 0-1    0.000179\n",
              "9                    Views 0-1    0.000158\n",
              "1            CHI Score Month 0    0.000053\n",
              "3        Support Cases Month 0    0.000021\n",
              "2                CHI Score 0-1    0.000011\n",
              "10   Days Since Last Login 0-1    0.000005\n",
              "0     Customer Age (in months)    0.000000\n",
              "5                   SP Month 0    0.000000\n",
              "6                       SP 0-1    0.000000\n",
              "7                   Logins 0-1    0.000000\n",
              "8            Blog Articles 0-1    0.000000"
            ],
            "text/html": [
              "\n",
              "  <div id=\"df-18cf9cc6-da49-42a5-b46d-e7875b0ff7aa\" class=\"colab-df-container\">\n",
              "    <div>\n",
              "<style scoped>\n",
              "    .dataframe tbody tr th:only-of-type {\n",
              "        vertical-align: middle;\n",
              "    }\n",
              "\n",
              "    .dataframe tbody tr th {\n",
              "        vertical-align: top;\n",
              "    }\n",
              "\n",
              "    .dataframe thead th {\n",
              "        text-align: right;\n",
              "    }\n",
              "</style>\n",
              "<table border=\"1\" class=\"dataframe\">\n",
              "  <thead>\n",
              "    <tr style=\"text-align: right;\">\n",
              "      <th></th>\n",
              "      <th>Feature</th>\n",
              "      <th>Importance</th>\n",
              "    </tr>\n",
              "  </thead>\n",
              "  <tbody>\n",
              "    <tr>\n",
              "      <th>4</th>\n",
              "      <td>Support Cases 0-1</td>\n",
              "      <td>0.000179</td>\n",
              "    </tr>\n",
              "    <tr>\n",
              "      <th>9</th>\n",
              "      <td>Views 0-1</td>\n",
              "      <td>0.000158</td>\n",
              "    </tr>\n",
              "    <tr>\n",
              "      <th>1</th>\n",
              "      <td>CHI Score Month 0</td>\n",
              "      <td>0.000053</td>\n",
              "    </tr>\n",
              "    <tr>\n",
              "      <th>3</th>\n",
              "      <td>Support Cases Month 0</td>\n",
              "      <td>0.000021</td>\n",
              "    </tr>\n",
              "    <tr>\n",
              "      <th>2</th>\n",
              "      <td>CHI Score 0-1</td>\n",
              "      <td>0.000011</td>\n",
              "    </tr>\n",
              "    <tr>\n",
              "      <th>10</th>\n",
              "      <td>Days Since Last Login 0-1</td>\n",
              "      <td>0.000005</td>\n",
              "    </tr>\n",
              "    <tr>\n",
              "      <th>0</th>\n",
              "      <td>Customer Age (in months)</td>\n",
              "      <td>0.000000</td>\n",
              "    </tr>\n",
              "    <tr>\n",
              "      <th>5</th>\n",
              "      <td>SP Month 0</td>\n",
              "      <td>0.000000</td>\n",
              "    </tr>\n",
              "    <tr>\n",
              "      <th>6</th>\n",
              "      <td>SP 0-1</td>\n",
              "      <td>0.000000</td>\n",
              "    </tr>\n",
              "    <tr>\n",
              "      <th>7</th>\n",
              "      <td>Logins 0-1</td>\n",
              "      <td>0.000000</td>\n",
              "    </tr>\n",
              "    <tr>\n",
              "      <th>8</th>\n",
              "      <td>Blog Articles 0-1</td>\n",
              "      <td>0.000000</td>\n",
              "    </tr>\n",
              "  </tbody>\n",
              "</table>\n",
              "</div>\n",
              "    <div class=\"colab-df-buttons\">\n",
              "\n",
              "  <div class=\"colab-df-container\">\n",
              "    <button class=\"colab-df-convert\" onclick=\"convertToInteractive('df-18cf9cc6-da49-42a5-b46d-e7875b0ff7aa')\"\n",
              "            title=\"Convert this dataframe to an interactive table.\"\n",
              "            style=\"display:none;\">\n",
              "\n",
              "  <svg xmlns=\"http://www.w3.org/2000/svg\" height=\"24px\" viewBox=\"0 -960 960 960\">\n",
              "    <path d=\"M120-120v-720h720v720H120Zm60-500h600v-160H180v160Zm220 220h160v-160H400v160Zm0 220h160v-160H400v160ZM180-400h160v-160H180v160Zm440 0h160v-160H620v160ZM180-180h160v-160H180v160Zm440 0h160v-160H620v160Z\"/>\n",
              "  </svg>\n",
              "    </button>\n",
              "\n",
              "  <style>\n",
              "    .colab-df-container {\n",
              "      display:flex;\n",
              "      gap: 12px;\n",
              "    }\n",
              "\n",
              "    .colab-df-convert {\n",
              "      background-color: #E8F0FE;\n",
              "      border: none;\n",
              "      border-radius: 50%;\n",
              "      cursor: pointer;\n",
              "      display: none;\n",
              "      fill: #1967D2;\n",
              "      height: 32px;\n",
              "      padding: 0 0 0 0;\n",
              "      width: 32px;\n",
              "    }\n",
              "\n",
              "    .colab-df-convert:hover {\n",
              "      background-color: #E2EBFA;\n",
              "      box-shadow: 0px 1px 2px rgba(60, 64, 67, 0.3), 0px 1px 3px 1px rgba(60, 64, 67, 0.15);\n",
              "      fill: #174EA6;\n",
              "    }\n",
              "\n",
              "    .colab-df-buttons div {\n",
              "      margin-bottom: 4px;\n",
              "    }\n",
              "\n",
              "    [theme=dark] .colab-df-convert {\n",
              "      background-color: #3B4455;\n",
              "      fill: #D2E3FC;\n",
              "    }\n",
              "\n",
              "    [theme=dark] .colab-df-convert:hover {\n",
              "      background-color: #434B5C;\n",
              "      box-shadow: 0px 1px 3px 1px rgba(0, 0, 0, 0.15);\n",
              "      filter: drop-shadow(0px 1px 2px rgba(0, 0, 0, 0.3));\n",
              "      fill: #FFFFFF;\n",
              "    }\n",
              "  </style>\n",
              "\n",
              "    <script>\n",
              "      const buttonEl =\n",
              "        document.querySelector('#df-18cf9cc6-da49-42a5-b46d-e7875b0ff7aa button.colab-df-convert');\n",
              "      buttonEl.style.display =\n",
              "        google.colab.kernel.accessAllowed ? 'block' : 'none';\n",
              "\n",
              "      async function convertToInteractive(key) {\n",
              "        const element = document.querySelector('#df-18cf9cc6-da49-42a5-b46d-e7875b0ff7aa');\n",
              "        const dataTable =\n",
              "          await google.colab.kernel.invokeFunction('convertToInteractive',\n",
              "                                                    [key], {});\n",
              "        if (!dataTable) return;\n",
              "\n",
              "        const docLinkHtml = 'Like what you see? Visit the ' +\n",
              "          '<a target=\"_blank\" href=https://colab.research.google.com/notebooks/data_table.ipynb>data table notebook</a>'\n",
              "          + ' to learn more about interactive tables.';\n",
              "        element.innerHTML = '';\n",
              "        dataTable['output_type'] = 'display_data';\n",
              "        await google.colab.output.renderOutput(dataTable, element);\n",
              "        const docLink = document.createElement('div');\n",
              "        docLink.innerHTML = docLinkHtml;\n",
              "        element.appendChild(docLink);\n",
              "      }\n",
              "    </script>\n",
              "  </div>\n",
              "\n",
              "\n",
              "<div id=\"df-4f7a9898-ab9f-48ab-ab0f-689926f54883\">\n",
              "  <button class=\"colab-df-quickchart\" onclick=\"quickchart('df-4f7a9898-ab9f-48ab-ab0f-689926f54883')\"\n",
              "            title=\"Suggest charts\"\n",
              "            style=\"display:none;\">\n",
              "\n",
              "<svg xmlns=\"http://www.w3.org/2000/svg\" height=\"24px\"viewBox=\"0 0 24 24\"\n",
              "     width=\"24px\">\n",
              "    <g>\n",
              "        <path d=\"M19 3H5c-1.1 0-2 .9-2 2v14c0 1.1.9 2 2 2h14c1.1 0 2-.9 2-2V5c0-1.1-.9-2-2-2zM9 17H7v-7h2v7zm4 0h-2V7h2v10zm4 0h-2v-4h2v4z\"/>\n",
              "    </g>\n",
              "</svg>\n",
              "  </button>\n",
              "\n",
              "<style>\n",
              "  .colab-df-quickchart {\n",
              "      --bg-color: #E8F0FE;\n",
              "      --fill-color: #1967D2;\n",
              "      --hover-bg-color: #E2EBFA;\n",
              "      --hover-fill-color: #174EA6;\n",
              "      --disabled-fill-color: #AAA;\n",
              "      --disabled-bg-color: #DDD;\n",
              "  }\n",
              "\n",
              "  [theme=dark] .colab-df-quickchart {\n",
              "      --bg-color: #3B4455;\n",
              "      --fill-color: #D2E3FC;\n",
              "      --hover-bg-color: #434B5C;\n",
              "      --hover-fill-color: #FFFFFF;\n",
              "      --disabled-bg-color: #3B4455;\n",
              "      --disabled-fill-color: #666;\n",
              "  }\n",
              "\n",
              "  .colab-df-quickchart {\n",
              "    background-color: var(--bg-color);\n",
              "    border: none;\n",
              "    border-radius: 50%;\n",
              "    cursor: pointer;\n",
              "    display: none;\n",
              "    fill: var(--fill-color);\n",
              "    height: 32px;\n",
              "    padding: 0;\n",
              "    width: 32px;\n",
              "  }\n",
              "\n",
              "  .colab-df-quickchart:hover {\n",
              "    background-color: var(--hover-bg-color);\n",
              "    box-shadow: 0 1px 2px rgba(60, 64, 67, 0.3), 0 1px 3px 1px rgba(60, 64, 67, 0.15);\n",
              "    fill: var(--button-hover-fill-color);\n",
              "  }\n",
              "\n",
              "  .colab-df-quickchart-complete:disabled,\n",
              "  .colab-df-quickchart-complete:disabled:hover {\n",
              "    background-color: var(--disabled-bg-color);\n",
              "    fill: var(--disabled-fill-color);\n",
              "    box-shadow: none;\n",
              "  }\n",
              "\n",
              "  .colab-df-spinner {\n",
              "    border: 2px solid var(--fill-color);\n",
              "    border-color: transparent;\n",
              "    border-bottom-color: var(--fill-color);\n",
              "    animation:\n",
              "      spin 1s steps(1) infinite;\n",
              "  }\n",
              "\n",
              "  @keyframes spin {\n",
              "    0% {\n",
              "      border-color: transparent;\n",
              "      border-bottom-color: var(--fill-color);\n",
              "      border-left-color: var(--fill-color);\n",
              "    }\n",
              "    20% {\n",
              "      border-color: transparent;\n",
              "      border-left-color: var(--fill-color);\n",
              "      border-top-color: var(--fill-color);\n",
              "    }\n",
              "    30% {\n",
              "      border-color: transparent;\n",
              "      border-left-color: var(--fill-color);\n",
              "      border-top-color: var(--fill-color);\n",
              "      border-right-color: var(--fill-color);\n",
              "    }\n",
              "    40% {\n",
              "      border-color: transparent;\n",
              "      border-right-color: var(--fill-color);\n",
              "      border-top-color: var(--fill-color);\n",
              "    }\n",
              "    60% {\n",
              "      border-color: transparent;\n",
              "      border-right-color: var(--fill-color);\n",
              "    }\n",
              "    80% {\n",
              "      border-color: transparent;\n",
              "      border-right-color: var(--fill-color);\n",
              "      border-bottom-color: var(--fill-color);\n",
              "    }\n",
              "    90% {\n",
              "      border-color: transparent;\n",
              "      border-bottom-color: var(--fill-color);\n",
              "    }\n",
              "  }\n",
              "</style>\n",
              "\n",
              "  <script>\n",
              "    async function quickchart(key) {\n",
              "      const quickchartButtonEl =\n",
              "        document.querySelector('#' + key + ' button');\n",
              "      quickchartButtonEl.disabled = true;  // To prevent multiple clicks.\n",
              "      quickchartButtonEl.classList.add('colab-df-spinner');\n",
              "      try {\n",
              "        const charts = await google.colab.kernel.invokeFunction(\n",
              "            'suggestCharts', [key], {});\n",
              "      } catch (error) {\n",
              "        console.error('Error during call to suggestCharts:', error);\n",
              "      }\n",
              "      quickchartButtonEl.classList.remove('colab-df-spinner');\n",
              "      quickchartButtonEl.classList.add('colab-df-quickchart-complete');\n",
              "    }\n",
              "    (() => {\n",
              "      let quickchartButtonEl =\n",
              "        document.querySelector('#df-4f7a9898-ab9f-48ab-ab0f-689926f54883 button');\n",
              "      quickchartButtonEl.style.display =\n",
              "        google.colab.kernel.accessAllowed ? 'block' : 'none';\n",
              "    })();\n",
              "  </script>\n",
              "</div>\n",
              "    </div>\n",
              "  </div>\n"
            ]
          },
          "metadata": {},
          "execution_count": 24
        }
      ]
    },
    {
      "cell_type": "markdown",
      "source": [
        "**Answer：**\n",
        "\n",
        "The feature \"Support Cases 0-1\" emerges as the most influential in predicting customer churn, with an importance score of 0.000179. This suggests that changes in the number of support cases over time are a critical indicator of churn risk. Following closely is \"Views 0-1\" with an importance score of 0.000158, indicating that variations in the number of views are also a significant predictor of churn, likely reflecting changes in customer engagement or satisfaction. The \"CHI Score Month 0\" and \"Support Cases Month 0\" are also notable predictors, albeit with lower importance scores of 0.000053 and 0.000021, respectively, suggesting that initial customer interactions and support needs are key indicators. Other factors like changes in CHI score, days since last login, and customer age show minimal to no impact on churn prediction in this model."
      ],
      "metadata": {
        "id": "GpjvDgWkeGw6"
      }
    },
    {
      "cell_type": "markdown",
      "source": [
        "**Q4. Addressing Wall’s Ultimate Question (2 Points)**\n",
        "\n",
        "Answer Wall’s “ultimate question”: provide the list of 100 customers with the highest churn probabilities and the top three drivers of churn for each customer.\n"
      ],
      "metadata": {
        "id": "y7dflpXWU3U5"
      }
    },
    {
      "cell_type": "code",
      "source": [
        "# Defining\n",
        "X = df[predictors]\n",
        "y = df['Churn (1 = Yes, 0 = No)']\n",
        "\n",
        "# Fit the Model\n",
        "model.fit(X, y)\n",
        "\n",
        "# Probabilities\n",
        "predicted_probabilities = model.predict_proba(X)[:, 1]\n",
        "df['Predicted Churn Probability'] = predicted_probabilities\n",
        "\n",
        "# Sort in descending order and Select top 100\n",
        "sorted_customers = df.sort_values(by='Predicted Churn Probability', ascending=False)\n",
        "top_100_customers = sorted_customers.head(100)\n",
        "\n",
        "# Coefficients of Logistic Regression Model\n",
        "model_coefficients = pd.DataFrame(data={\n",
        "    'Feature': predictors,\n",
        "    'Coefficient': model.coef_[0]\n",
        "}).sort_values(by='Coefficient', ascending=False)\n",
        "\n",
        "# Top three drivers\n",
        "top_3_drivers = model_coefficients.head(3)['Feature'].tolist()\n",
        "top_100_customers[['ID', 'Predicted Churn Probability']], top_3_drivers"
      ],
      "metadata": {
        "colab": {
          "base_uri": "https://localhost:8080/"
        },
        "id": "JWlHcL7Lenn0",
        "outputId": "6637af55-9e7e-47c0-9c03-18d2eed855cc"
      },
      "execution_count": null,
      "outputs": [
        {
          "output_type": "execute_result",
          "data": {
            "text/plain": [
              "(        ID  Predicted Churn Probability\n",
              " 2286  2287                     0.400012\n",
              " 356    357                     0.344052\n",
              " 108    109                     0.301802\n",
              " 1970  1971                     0.248066\n",
              " 2075  2076                     0.216965\n",
              " ...    ...                          ...\n",
              " 2655  2656                     0.138880\n",
              " 1907  1908                     0.138010\n",
              " 2912  2913                     0.137628\n",
              " 2285  2286                     0.137055\n",
              " 11      12                     0.136783\n",
              " \n",
              " [100 rows x 2 columns],\n",
              " ['Support Cases 0-1',\n",
              "  ' Days Since Last Login 0-1',\n",
              "  'Customer Age (in months)'])"
            ]
          },
          "metadata": {},
          "execution_count": 25
        }
      ]
    },
    {
      "cell_type": "code",
      "source": [
        "excel_path = '/content/top_100_customers.xlsx'\n",
        "\n",
        "# Export to Excel\n",
        "top_100_customers.to_excel(excel_path, index=False)\n",
        "\n"
      ],
      "metadata": {
        "id": "OFM7p1KFX9qt"
      },
      "execution_count": null,
      "outputs": []
    },
    {
      "cell_type": "markdown",
      "source": [
        "**Answer:**\n",
        "\n",
        "Based on the data above, the customer at the top of this list is ID 2287, with a predicted probability of approximately 40.00% of leaving the company.\n",
        "\n",
        "Top three drivers:\n",
        "\n",
        "1. Support Cases 0-1: Changes in the number of support cases over time are the most significant factor. This suggests that varying levels of customer service needs or satisfaction are critical in influencing a customer's likelihood of churning.\n",
        "\n",
        "2. Days Since Last Login 0-1: The duration since a customer last logged in is another crucial factor. A longer period without customer engagement could indicate waning interest or satisfaction, thus increasing the risk of churn.\n",
        "\n",
        "3. Customer Age (in months): The customer's tenure with the company, represented by their age in months, is also a key driver. This implies that both newer and longer-term customers have specific churn risks, possibly for different reasons."
      ],
      "metadata": {
        "id": "MPHdPudwgWMc"
      }
    }
  ]
}